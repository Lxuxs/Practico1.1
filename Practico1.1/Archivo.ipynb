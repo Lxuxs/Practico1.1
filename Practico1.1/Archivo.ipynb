{
 "cells": [
  {
   "cell_type": "code",
   "execution_count": 105,
   "metadata": {},
   "outputs": [],
   "source": [
    "import pandas as pd\n",
    "import seaborn as sns\n",
    "import matplotlib.pyplot as plt"
   ]
  },
  {
   "cell_type": "markdown",
   "metadata": {},
   "source": [
    "# Cargar el dataset"
   ]
  },
  {
   "cell_type": "code",
   "execution_count": 28,
   "metadata": {},
   "outputs": [],
   "source": [
    "df = pd.read_csv(r\"C:\\Users\\luiss\\Desktop\\Practico1.1\\pi_movies_complete.csv\", sep=\";\")\n"
   ]
  },
  {
   "cell_type": "markdown",
   "metadata": {},
   "source": [
    "# Explorar la estructura del dataset"
   ]
  },
  {
   "cell_type": "markdown",
   "metadata": {},
   "source": [
    "### Ver las primeras filas del dataset"
   ]
  },
  {
   "cell_type": "code",
   "execution_count": 55,
   "metadata": {},
   "outputs": [
    {
     "data": {
      "text/html": [
       "<div>\n",
       "<style scoped>\n",
       "    .dataframe tbody tr th:only-of-type {\n",
       "        vertical-align: middle;\n",
       "    }\n",
       "\n",
       "    .dataframe tbody tr th {\n",
       "        vertical-align: top;\n",
       "    }\n",
       "\n",
       "    .dataframe thead th {\n",
       "        text-align: right;\n",
       "    }\n",
       "</style>\n",
       "<table border=\"1\" class=\"dataframe\">\n",
       "  <thead>\n",
       "    <tr style=\"text-align: right;\">\n",
       "      <th></th>\n",
       "      <th>adult</th>\n",
       "      <th>belongs_to_collection</th>\n",
       "      <th>budget</th>\n",
       "      <th>genres</th>\n",
       "      <th>homepage</th>\n",
       "      <th>id</th>\n",
       "      <th>imdb_id</th>\n",
       "      <th>original_language</th>\n",
       "      <th>original_title</th>\n",
       "      <th>overview</th>\n",
       "      <th>...</th>\n",
       "      <th>status</th>\n",
       "      <th>tagline</th>\n",
       "      <th>title</th>\n",
       "      <th>video</th>\n",
       "      <th>vote_average</th>\n",
       "      <th>vote_count</th>\n",
       "      <th>keywords</th>\n",
       "      <th>cast</th>\n",
       "      <th>crew</th>\n",
       "      <th>ratings</th>\n",
       "    </tr>\n",
       "  </thead>\n",
       "  <tbody>\n",
       "    <tr>\n",
       "      <th>0</th>\n",
       "      <td>False</td>\n",
       "      <td>...</td>\n",
       "      <td>1350000</td>\n",
       "      <td>[{'id': 35, 'name': 'Comedy'}, {'id': 80, 'nam...</td>\n",
       "      <td>http://www.universalstudiosentertainment.com/l...</td>\n",
       "      <td>100                                           ...</td>\n",
       "      <td>tt0120735</td>\n",
       "      <td>en</td>\n",
       "      <td>Lock, Stock and Two Smoking Barrels           ...</td>\n",
       "      <td>A card sharp and his unwillingly-enlisted frie...</td>\n",
       "      <td>...</td>\n",
       "      <td>Released</td>\n",
       "      <td>A Disgrace to Criminals Everywhere.           ...</td>\n",
       "      <td>Lock, Stock and Two Smoking Barrels           ...</td>\n",
       "      <td>False</td>\n",
       "      <td>7.5</td>\n",
       "      <td>1671.0</td>\n",
       "      <td>[{'id': 502, 'name': 'ambush'}, {'id': 567, 'n...</td>\n",
       "      <td>[{'cast_id': 12, 'character': 'Tom', 'credit_i...</td>\n",
       "      <td>[{'credit_id': '52fe4217c3a36847f80035c1', 'de...</td>\n",
       "      <td>[{\"userId\":92908,\"rating\":2.0,\"timestamp\":9008...</td>\n",
       "    </tr>\n",
       "    <tr>\n",
       "      <th>1</th>\n",
       "      <td>False</td>\n",
       "      <td>...</td>\n",
       "      <td>0</td>\n",
       "      <td>[{'id': 18, 'name': 'Drama'}, {'id': 10752, 'n...</td>\n",
       "      <td>...</td>\n",
       "      <td>100010                                        ...</td>\n",
       "      <td>tt0032477</td>\n",
       "      <td>en</td>\n",
       "      <td>Flight Command                                ...</td>\n",
       "      <td>A rookie flyer, Ens. Alan Drake, joins the fam...</td>\n",
       "      <td>...</td>\n",
       "      <td>Released</td>\n",
       "      <td>T-H-R-I-L-L AMERICA! Here come The Flying \"HEL...</td>\n",
       "      <td>Flight Command                                ...</td>\n",
       "      <td>False</td>\n",
       "      <td>6.0</td>\n",
       "      <td>1.0</td>\n",
       "      <td>[{'id': 3203, 'name': 'pilot'}, {'id': 3588, '...</td>\n",
       "      <td>[{'cast_id': 4, 'character': 'Ens. Alan Drake'...</td>\n",
       "      <td>[{'credit_id': '52fe49c7c3a36847f81a5a21', 'de...</td>\n",
       "      <td>[{\"userId\":68664,\"rating\":2.5,\"timestamp\":1493...</td>\n",
       "    </tr>\n",
       "    <tr>\n",
       "      <th>2</th>\n",
       "      <td>False</td>\n",
       "      <td>...</td>\n",
       "      <td>0</td>\n",
       "      <td>[{'id': 18, 'name': 'Drama'}]                 ...</td>\n",
       "      <td>...</td>\n",
       "      <td>100017                                        ...</td>\n",
       "      <td>tt0488903</td>\n",
       "      <td>de</td>\n",
       "      <td>Verfolgt                                      ...</td>\n",
       "      <td>Deals with the obsessive relationship between ...</td>\n",
       "      <td>...</td>\n",
       "      <td>Released</td>\n",
       "      <td>...</td>\n",
       "      <td>Hounded                                       ...</td>\n",
       "      <td>False</td>\n",
       "      <td>4.8</td>\n",
       "      <td>7.0</td>\n",
       "      <td>[{'id': 2843, 'name': 'fetishism'}, {'id': 326...</td>\n",
       "      <td>[{'cast_id': 1, 'character': 'Jan Winkler', 'c...</td>\n",
       "      <td>[{'credit_id': '53f5e242c3a36833f7003a15', 'de...</td>\n",
       "      <td>[{\"userId\":32862,\"rating\":2.5,\"timestamp\":1362...</td>\n",
       "    </tr>\n",
       "    <tr>\n",
       "      <th>3</th>\n",
       "      <td>False</td>\n",
       "      <td>...</td>\n",
       "      <td>0</td>\n",
       "      <td>[{'id': 18, 'name': 'Drama'}, {'id': 28, 'name...</td>\n",
       "      <td>...</td>\n",
       "      <td>100032                                        ...</td>\n",
       "      <td>tt0099137</td>\n",
       "      <td>en</td>\n",
       "      <td>The Great Los Angeles Earthquake              ...</td>\n",
       "      <td>After a series of small tremors in Los Angeles...</td>\n",
       "      <td>...</td>\n",
       "      <td>Released</td>\n",
       "      <td>There is no safe harbor, there is no escape......</td>\n",
       "      <td>The Great Los Angeles Earthquake              ...</td>\n",
       "      <td>False</td>\n",
       "      <td>6.8</td>\n",
       "      <td>5.0</td>\n",
       "      <td>[]                                            ...</td>\n",
       "      <td>[{'cast_id': 1, 'character': 'Dr. Clare Winslo...</td>\n",
       "      <td>[{'credit_id': '59ac6d9f925141079d033344', 'de...</td>\n",
       "      <td>[{\"userId\":100293,\"rating\":4.5,\"timestamp\":136...</td>\n",
       "    </tr>\n",
       "    <tr>\n",
       "      <th>4</th>\n",
       "      <td>False</td>\n",
       "      <td>{'id': 96665, 'name': 'Dumb and Dumber Collect...</td>\n",
       "      <td>40000000</td>\n",
       "      <td>[{'id': 35, 'name': 'Comedy'}]                ...</td>\n",
       "      <td>...</td>\n",
       "      <td>100042                                        ...</td>\n",
       "      <td>tt2096672</td>\n",
       "      <td>en</td>\n",
       "      <td>Dumb and Dumber To                            ...</td>\n",
       "      <td>20 years after the dimwits set out on their fi...</td>\n",
       "      <td>...</td>\n",
       "      <td>Released</td>\n",
       "      <td>The Second Parts Are More Fools               ...</td>\n",
       "      <td>Dumb and Dumber To                            ...</td>\n",
       "      <td>False</td>\n",
       "      <td>5.4</td>\n",
       "      <td>1140.0</td>\n",
       "      <td>[{'id': 6054, 'name': 'friendship'}, {'id': 96...</td>\n",
       "      <td>[{'cast_id': 6, 'character': 'Lloyd Christmas'...</td>\n",
       "      <td>[{'credit_id': '54e36a7bc3a3684897001610', 'de...</td>\n",
       "      <td>[{\"userId\":228943,\"rating\":3.0,\"timestamp\":135...</td>\n",
       "    </tr>\n",
       "  </tbody>\n",
       "</table>\n",
       "<p>5 rows × 28 columns</p>\n",
       "</div>"
      ],
      "text/plain": [
       "   adult                              belongs_to_collection    budget  \\\n",
       "0  False                                                ...   1350000   \n",
       "1  False                                                ...         0   \n",
       "2  False                                                ...         0   \n",
       "3  False                                                ...         0   \n",
       "4  False  {'id': 96665, 'name': 'Dumb and Dumber Collect...  40000000   \n",
       "\n",
       "                                              genres  \\\n",
       "0  [{'id': 35, 'name': 'Comedy'}, {'id': 80, 'nam...   \n",
       "1  [{'id': 18, 'name': 'Drama'}, {'id': 10752, 'n...   \n",
       "2  [{'id': 18, 'name': 'Drama'}]                 ...   \n",
       "3  [{'id': 18, 'name': 'Drama'}, {'id': 28, 'name...   \n",
       "4  [{'id': 35, 'name': 'Comedy'}]                ...   \n",
       "\n",
       "                                            homepage  \\\n",
       "0  http://www.universalstudiosentertainment.com/l...   \n",
       "1                                                ...   \n",
       "2                                                ...   \n",
       "3                                                ...   \n",
       "4                                                ...   \n",
       "\n",
       "                                                  id    imdb_id  \\\n",
       "0  100                                           ...  tt0120735   \n",
       "1  100010                                        ...  tt0032477   \n",
       "2  100017                                        ...  tt0488903   \n",
       "3  100032                                        ...  tt0099137   \n",
       "4  100042                                        ...  tt2096672   \n",
       "\n",
       "  original_language                                     original_title  \\\n",
       "0                en  Lock, Stock and Two Smoking Barrels           ...   \n",
       "1                en  Flight Command                                ...   \n",
       "2                de  Verfolgt                                      ...   \n",
       "3                en  The Great Los Angeles Earthquake              ...   \n",
       "4                en  Dumb and Dumber To                            ...   \n",
       "\n",
       "                                            overview  ...    status  \\\n",
       "0  A card sharp and his unwillingly-enlisted frie...  ...  Released   \n",
       "1  A rookie flyer, Ens. Alan Drake, joins the fam...  ...  Released   \n",
       "2  Deals with the obsessive relationship between ...  ...  Released   \n",
       "3  After a series of small tremors in Los Angeles...  ...  Released   \n",
       "4  20 years after the dimwits set out on their fi...  ...  Released   \n",
       "\n",
       "                                             tagline  \\\n",
       "0  A Disgrace to Criminals Everywhere.           ...   \n",
       "1  T-H-R-I-L-L AMERICA! Here come The Flying \"HEL...   \n",
       "2                                                ...   \n",
       "3  There is no safe harbor, there is no escape......   \n",
       "4  The Second Parts Are More Fools               ...   \n",
       "\n",
       "                                               title  video vote_average  \\\n",
       "0  Lock, Stock and Two Smoking Barrels           ...  False          7.5   \n",
       "1  Flight Command                                ...  False          6.0   \n",
       "2  Hounded                                       ...  False          4.8   \n",
       "3  The Great Los Angeles Earthquake              ...  False          6.8   \n",
       "4  Dumb and Dumber To                            ...  False          5.4   \n",
       "\n",
       "  vote_count                                           keywords  \\\n",
       "0     1671.0  [{'id': 502, 'name': 'ambush'}, {'id': 567, 'n...   \n",
       "1        1.0  [{'id': 3203, 'name': 'pilot'}, {'id': 3588, '...   \n",
       "2        7.0  [{'id': 2843, 'name': 'fetishism'}, {'id': 326...   \n",
       "3        5.0  []                                            ...   \n",
       "4     1140.0  [{'id': 6054, 'name': 'friendship'}, {'id': 96...   \n",
       "\n",
       "                                                cast  \\\n",
       "0  [{'cast_id': 12, 'character': 'Tom', 'credit_i...   \n",
       "1  [{'cast_id': 4, 'character': 'Ens. Alan Drake'...   \n",
       "2  [{'cast_id': 1, 'character': 'Jan Winkler', 'c...   \n",
       "3  [{'cast_id': 1, 'character': 'Dr. Clare Winslo...   \n",
       "4  [{'cast_id': 6, 'character': 'Lloyd Christmas'...   \n",
       "\n",
       "                                                crew  \\\n",
       "0  [{'credit_id': '52fe4217c3a36847f80035c1', 'de...   \n",
       "1  [{'credit_id': '52fe49c7c3a36847f81a5a21', 'de...   \n",
       "2  [{'credit_id': '53f5e242c3a36833f7003a15', 'de...   \n",
       "3  [{'credit_id': '59ac6d9f925141079d033344', 'de...   \n",
       "4  [{'credit_id': '54e36a7bc3a3684897001610', 'de...   \n",
       "\n",
       "                                             ratings  \n",
       "0  [{\"userId\":92908,\"rating\":2.0,\"timestamp\":9008...  \n",
       "1  [{\"userId\":68664,\"rating\":2.5,\"timestamp\":1493...  \n",
       "2  [{\"userId\":32862,\"rating\":2.5,\"timestamp\":1362...  \n",
       "3  [{\"userId\":100293,\"rating\":4.5,\"timestamp\":136...  \n",
       "4  [{\"userId\":228943,\"rating\":3.0,\"timestamp\":135...  \n",
       "\n",
       "[5 rows x 28 columns]"
      ]
     },
     "execution_count": 55,
     "metadata": {},
     "output_type": "execute_result"
    }
   ],
   "source": [
    "df.head()"
   ]
  },
  {
   "cell_type": "markdown",
   "metadata": {},
   "source": [
    "### Obtener información general sobre el dataset"
   ]
  },
  {
   "cell_type": "code",
   "execution_count": 56,
   "metadata": {},
   "outputs": [
    {
     "name": "stdout",
     "output_type": "stream",
     "text": [
      "<class 'pandas.core.frame.DataFrame'>\n",
      "RangeIndex: 3497 entries, 0 to 3496\n",
      "Data columns (total 28 columns):\n",
      " #   Column                 Non-Null Count  Dtype  \n",
      "---  ------                 --------------  -----  \n",
      " 0   adult                  3497 non-null   object \n",
      " 1   belongs_to_collection  3494 non-null   object \n",
      " 2   budget                 3494 non-null   object \n",
      " 3   genres                 3494 non-null   object \n",
      " 4   homepage               3494 non-null   object \n",
      " 5   id                     3494 non-null   object \n",
      " 6   imdb_id                3494 non-null   object \n",
      " 7   original_language      3494 non-null   object \n",
      " 8   original_title         3494 non-null   object \n",
      " 9   overview               3494 non-null   object \n",
      " 10  popularity             3487 non-null   object \n",
      " 11  poster_path            3487 non-null   object \n",
      " 12  production_companies   3487 non-null   object \n",
      " 13  production_countries   3487 non-null   object \n",
      " 14  release_date           3481 non-null   object \n",
      " 15  revenue                3487 non-null   object \n",
      " 16  runtime                3487 non-null   object \n",
      " 17  spoken_languages       3487 non-null   object \n",
      " 18  status                 3487 non-null   object \n",
      " 19  tagline                3480 non-null   object \n",
      " 20  title                  3480 non-null   object \n",
      " 21  video                  3480 non-null   object \n",
      " 22  vote_average           3480 non-null   float64\n",
      " 23  vote_count             3480 non-null   float64\n",
      " 24  keywords               3480 non-null   object \n",
      " 25  cast                   3480 non-null   object \n",
      " 26  crew                   3480 non-null   object \n",
      " 27  ratings                3480 non-null   object \n",
      "dtypes: float64(2), object(26)\n",
      "memory usage: 765.1+ KB\n"
     ]
    }
   ],
   "source": [
    "df.info()"
   ]
  },
  {
   "cell_type": "markdown",
   "metadata": {},
   "source": [
    "### Numero de Filas y Columnas"
   ]
  },
  {
   "cell_type": "code",
   "execution_count": 57,
   "metadata": {},
   "outputs": [
    {
     "data": {
      "text/plain": [
       "(3497, 28)"
      ]
     },
     "execution_count": 57,
     "metadata": {},
     "output_type": "execute_result"
    }
   ],
   "source": [
    "df.shape"
   ]
  },
  {
   "cell_type": "markdown",
   "metadata": {},
   "source": [
    "### Describir estadísticas descriptivas de las columnas numéricas"
   ]
  },
  {
   "cell_type": "code",
   "execution_count": 58,
   "metadata": {},
   "outputs": [
    {
     "data": {
      "text/html": [
       "<div>\n",
       "<style scoped>\n",
       "    .dataframe tbody tr th:only-of-type {\n",
       "        vertical-align: middle;\n",
       "    }\n",
       "\n",
       "    .dataframe tbody tr th {\n",
       "        vertical-align: top;\n",
       "    }\n",
       "\n",
       "    .dataframe thead th {\n",
       "        text-align: right;\n",
       "    }\n",
       "</style>\n",
       "<table border=\"1\" class=\"dataframe\">\n",
       "  <thead>\n",
       "    <tr style=\"text-align: right;\">\n",
       "      <th></th>\n",
       "      <th>vote_average</th>\n",
       "      <th>vote_count</th>\n",
       "    </tr>\n",
       "  </thead>\n",
       "  <tbody>\n",
       "    <tr>\n",
       "      <th>count</th>\n",
       "      <td>3480.000000</td>\n",
       "      <td>3480.000000</td>\n",
       "    </tr>\n",
       "    <tr>\n",
       "      <th>mean</th>\n",
       "      <td>5.674023</td>\n",
       "      <td>230.242529</td>\n",
       "    </tr>\n",
       "    <tr>\n",
       "      <th>std</th>\n",
       "      <td>2.010821</td>\n",
       "      <td>864.547448</td>\n",
       "    </tr>\n",
       "    <tr>\n",
       "      <th>min</th>\n",
       "      <td>0.000000</td>\n",
       "      <td>0.000000</td>\n",
       "    </tr>\n",
       "    <tr>\n",
       "      <th>25%</th>\n",
       "      <td>5.000000</td>\n",
       "      <td>3.000000</td>\n",
       "    </tr>\n",
       "    <tr>\n",
       "      <th>50%</th>\n",
       "      <td>6.100000</td>\n",
       "      <td>9.000000</td>\n",
       "    </tr>\n",
       "    <tr>\n",
       "      <th>75%</th>\n",
       "      <td>6.925000</td>\n",
       "      <td>58.000000</td>\n",
       "    </tr>\n",
       "    <tr>\n",
       "      <th>max</th>\n",
       "      <td>10.000000</td>\n",
       "      <td>14075.000000</td>\n",
       "    </tr>\n",
       "  </tbody>\n",
       "</table>\n",
       "</div>"
      ],
      "text/plain": [
       "       vote_average    vote_count\n",
       "count   3480.000000   3480.000000\n",
       "mean       5.674023    230.242529\n",
       "std        2.010821    864.547448\n",
       "min        0.000000      0.000000\n",
       "25%        5.000000      3.000000\n",
       "50%        6.100000      9.000000\n",
       "75%        6.925000     58.000000\n",
       "max       10.000000  14075.000000"
      ]
     },
     "execution_count": 58,
     "metadata": {},
     "output_type": "execute_result"
    }
   ],
   "source": [
    "df.describe()"
   ]
  },
  {
   "cell_type": "markdown",
   "metadata": {},
   "source": [
    "### Ver las columnas del dataset"
   ]
  },
  {
   "cell_type": "code",
   "execution_count": 59,
   "metadata": {},
   "outputs": [
    {
     "data": {
      "text/plain": [
       "Index(['adult', 'belongs_to_collection', 'budget', 'genres', 'homepage', 'id',\n",
       "       'imdb_id', 'original_language', 'original_title', 'overview',\n",
       "       'popularity', 'poster_path', 'production_companies',\n",
       "       'production_countries', 'release_date', 'revenue', 'runtime',\n",
       "       'spoken_languages', 'status', 'tagline', 'title', 'video',\n",
       "       'vote_average', 'vote_count', 'keywords', 'cast', 'crew', 'ratings'],\n",
       "      dtype='object')"
      ]
     },
     "execution_count": 59,
     "metadata": {},
     "output_type": "execute_result"
    }
   ],
   "source": [
    "df.columns"
   ]
  },
  {
   "cell_type": "markdown",
   "metadata": {},
   "source": [
    "### Verificar los valores nulos"
   ]
  },
  {
   "cell_type": "code",
   "execution_count": 60,
   "metadata": {},
   "outputs": [
    {
     "data": {
      "text/plain": [
       "adult                     0\n",
       "belongs_to_collection     3\n",
       "budget                    3\n",
       "genres                    3\n",
       "homepage                  3\n",
       "id                        3\n",
       "imdb_id                   3\n",
       "original_language         3\n",
       "original_title            3\n",
       "overview                  3\n",
       "popularity               10\n",
       "poster_path              10\n",
       "production_companies     10\n",
       "production_countries     10\n",
       "release_date             16\n",
       "revenue                  10\n",
       "runtime                  10\n",
       "spoken_languages         10\n",
       "status                   10\n",
       "tagline                  17\n",
       "title                    17\n",
       "video                    17\n",
       "vote_average             17\n",
       "vote_count               17\n",
       "keywords                 17\n",
       "cast                     17\n",
       "crew                     17\n",
       "ratings                  17\n",
       "dtype: int64"
      ]
     },
     "execution_count": 60,
     "metadata": {},
     "output_type": "execute_result"
    }
   ],
   "source": [
    "df.isnull().sum()"
   ]
  },
  {
   "cell_type": "markdown",
   "metadata": {},
   "source": [
    "### Cuántas películas están incluidas  "
   ]
  },
  {
   "cell_type": "code",
   "execution_count": 61,
   "metadata": {},
   "outputs": [
    {
     "name": "stdout",
     "output_type": "stream",
     "text": [
      "Número total de películas: 3497\n"
     ]
    }
   ],
   "source": [
    "t_peliculas = df.shape[0]\n",
    "print(f'Número total de películas: {t_peliculas}')"
   ]
  },
  {
   "cell_type": "markdown",
   "metadata": {},
   "source": [
    "### Cuáles son los géneros más comunes y menos presentados  "
   ]
  },
  {
   "cell_type": "code",
   "execution_count": 91,
   "metadata": {},
   "outputs": [
    {
     "name": "stdout",
     "output_type": "stream",
     "text": [
      "Géneros más comunes:\n",
      "genres\n",
      "[{'id': 18, 'name': 'Drama'}]                                                                                                                                           414\n",
      "[]                                                                                                                                                                      307\n",
      "[{'id': 35, 'name': 'Comedy'}]                                                                                                                                          214\n",
      "[{'id': 99, 'name': 'Documentary'}]                                                                                                                                     202\n",
      "[{'id': 18, 'name': 'Drama'}, {'id': 10749, 'name': 'Romance'}]                                                                                                          92\n",
      "Name: count, dtype: int64\n",
      "--------------------------------------------------------------\n",
      "Géneros menos comunes:\n",
      "genres\n",
      "[{'id': 14, 'name': 'Fantasy'}, {'id': 12, 'name': 'Adventure'}, {'id': 28, 'name': 'Action'}, {'id': 35, 'name': 'Comedy'}, {'id': 18, 'name': 'Drama'}]               1\n",
      "[{'id': 10749, 'name': 'Romance'}, {'id': 36, 'name': 'History'}, {'id': 18, 'name': 'Drama'}]                                                                          1\n",
      "[{'id': 37, 'name': 'Western'}, {'id': 10402, 'name': 'Music'}, {'id': 10749, 'name': 'Romance'}]                                                                       1\n",
      "[{'id': 12, 'name': 'Adventure'}, {'id': 18, 'name': 'Drama'}, {'id': 14, 'name': 'Fantasy'}, {'id': 10751, 'name': 'Family'}]                                          1\n",
      "[{'id': 53, 'name': 'Thriller'}, {'id': 18, 'name': 'Drama'}, {'id': 80, 'name': 'Crime'}, {'id': 36, 'name': 'History'}]                                               1\n",
      "Name: count, dtype: int64\n"
     ]
    }
   ],
   "source": [
    "\n",
    "generos_comunes = df['genres'].value_counts()\n",
    "\n",
    "print(\"Géneros más comunes:\")\n",
    "print(generos_comunes.head())  # Los más comunes\n",
    "print(\"--------------------------------------------------------------\")\n",
    "print(\"Géneros menos comunes:\")\n",
    "print(generos_comunes.tail())  # Los menos comunes\n",
    "\n",
    "\n",
    "\n"
   ]
  },
  {
   "cell_type": "markdown",
   "metadata": {},
   "source": [
    "### Cuántas películas se producen por año"
   ]
  },
  {
   "cell_type": "code",
   "execution_count": 114,
   "metadata": {},
   "outputs": [
    {
     "name": "stdout",
     "output_type": "stream",
     "text": [
      "Número de películas producidas por año:\n",
      "year\n",
      "1892.0      1\n",
      "1894.0      3\n",
      "1895.0      1\n",
      "1896.0      2\n",
      "1898.0      1\n",
      "1902.0      1\n",
      "1903.0      4\n",
      "1905.0      1\n",
      "1906.0      2\n",
      "1911.0      1\n",
      "1912.0      2\n",
      "1913.0      3\n",
      "1914.0      2\n",
      "1916.0     12\n",
      "1918.0      3\n",
      "1919.0      2\n",
      "1920.0      5\n",
      "1921.0      4\n",
      "1922.0      7\n",
      "1923.0      3\n",
      "1924.0      4\n",
      "1925.0      2\n",
      "1926.0      2\n",
      "1927.0      9\n",
      "1928.0      6\n",
      "1929.0      6\n",
      "1930.0     16\n",
      "1931.0      9\n",
      "1932.0     10\n",
      "1933.0     18\n",
      "1934.0     10\n",
      "1935.0     17\n",
      "1936.0     10\n",
      "1937.0     13\n",
      "1938.0     15\n",
      "1939.0     13\n",
      "1940.0     10\n",
      "1941.0      2\n",
      "1942.0      8\n",
      "1943.0     24\n",
      "1944.0     14\n",
      "1945.0      9\n",
      "1946.0      8\n",
      "1947.0     11\n",
      "1948.0     14\n",
      "1949.0     14\n",
      "1950.0     13\n",
      "1951.0     12\n",
      "1952.0     19\n",
      "1953.0     10\n",
      "1954.0     16\n",
      "1955.0     16\n",
      "1956.0     17\n",
      "1957.0     21\n",
      "1958.0     20\n",
      "1959.0     17\n",
      "1960.0     21\n",
      "1961.0     16\n",
      "1962.0     18\n",
      "1963.0     26\n",
      "1964.0     23\n",
      "1965.0     24\n",
      "1966.0     22\n",
      "1967.0     30\n",
      "1968.0     27\n",
      "1969.0     36\n",
      "1970.0     36\n",
      "1971.0     32\n",
      "1972.0     32\n",
      "1973.0     27\n",
      "1974.0     27\n",
      "1975.0     24\n",
      "1976.0     28\n",
      "1977.0     19\n",
      "1978.0     31\n",
      "1979.0     33\n",
      "1980.0     23\n",
      "1981.0     26\n",
      "1982.0     35\n",
      "1983.0     42\n",
      "1984.0     28\n",
      "1985.0     22\n",
      "1986.0     27\n",
      "1987.0     38\n",
      "1988.0     39\n",
      "1989.0     40\n",
      "1990.0     50\n",
      "1991.0     49\n",
      "1992.0     33\n",
      "1993.0     41\n",
      "1994.0     58\n",
      "1995.0     41\n",
      "1996.0     56\n",
      "1997.0     68\n",
      "1998.0     62\n",
      "1999.0     66\n",
      "2000.0     68\n",
      "2001.0     90\n",
      "2002.0     75\n",
      "2003.0     70\n",
      "2004.0     92\n",
      "2005.0    113\n",
      "2006.0    119\n",
      "2007.0    114\n",
      "2008.0     51\n",
      "2009.0     91\n",
      "2010.0     42\n",
      "2011.0     66\n",
      "2012.0    345\n",
      "2013.0    212\n",
      "2014.0     36\n",
      "2015.0     10\n",
      "2016.0      8\n",
      "2017.0      1\n",
      "Name: count, dtype: int64\n"
     ]
    },
    {
     "data": {
      "image/png": "[encoded data removed]",
      "text/plain": [
       "<Figure size 640x480 with 1 Axes>"
      ]
     },
     "metadata": {},
     "output_type": "display_data"
    }
   ],
   "source": [
    "\n",
    "# Extraer el año de la fecha de lanzamiento\n",
    "df['year'] = pd.to_datetime(df['release_date'], errors='coerce').dt.year\n",
    "\n",
    "# Contar el número de películas por año\n",
    "peliculas_por_ano = df['year'].value_counts().sort_index()\n",
    "\n",
    "# Imprimir cuántas películas se producen por año\n",
    "print(\"Número de películas producidas por año:\")\n",
    "print(peliculas_por_ano)\n",
    "\n",
    "# Graficar con seaborn\n",
    "sns.lineplot(x=peliculas_por_ano.index, y=peliculas_por_ano.values)\n",
    "\n",
    "# Agregar título y etiquetas\n",
    "plt.title('Películas producidas por año')\n",
    "plt.xlabel('Año')\n",
    "plt.ylabel('Número de películas')\n",
    "\n",
    "# Mostrar gráfico\n",
    "plt.show()\n"
   ]
  },
  {
   "cell_type": "markdown",
   "metadata": {},
   "source": [
    "### Se define si hay más de un director de películas incluido"
   ]
  },
  {
   "cell_type": "markdown",
   "metadata": {},
   "source": [
    "### Cuáles otros datos o metadatos se incluyen en el Dataset "
   ]
  },
  {
   "cell_type": "markdown",
   "metadata": {},
   "source": [
    "### Qué información podría analizar con este Dataset (al menos 3 ideas) "
   ]
  },
  {
   "cell_type": "markdown",
   "metadata": {},
   "source": [
    "### Con qué datos de películas que encuentran en sitios como - Netflix, IMBD, TMBD- se relaciona el dataset "
   ]
  },
  {
   "cell_type": "markdown",
   "metadata": {},
   "source": [
    "# Limpiesa de Datos "
   ]
  },
  {
   "cell_type": "markdown",
   "metadata": {},
   "source": [
    "### Eliminar duplicados"
   ]
  },
  {
   "cell_type": "markdown",
   "metadata": {},
   "source": []
  }
 ],
 "metadata": {
  "kernelspec": {
   "display_name": "Python 3",
   "language": "python",
   "name": "python3"
  },
  "language_info": {
   "codemirror_mode": {
    "name": "ipython",
    "version": 3
   },
   "file_extension": ".py",
   "mimetype": "text/x-python",
   "name": "python",
   "nbconvert_exporter": "python",
   "pygments_lexer": "ipython3",
   "version": "3.12.5"
  }
 },
 "nbformat": 4,
 "nbformat_minor": 2
}
